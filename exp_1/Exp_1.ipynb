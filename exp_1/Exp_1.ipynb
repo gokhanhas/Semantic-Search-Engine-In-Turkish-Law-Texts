{
 "cells": [
  {
   "cell_type": "code",
   "execution_count": 1,
   "id": "2e0af5f5",
   "metadata": {},
   "outputs": [],
   "source": [
    "query = \"insan öldürmenin cezası\""
   ]
  },
  {
   "cell_type": "code",
   "execution_count": 2,
   "id": "97d4eaf8",
   "metadata": {},
   "outputs": [],
   "source": [
    "# Gokhan Has\n",
    "\n",
    "import scipy\n",
    "import os\n",
    "import pandas as pd\n",
    "import numpy as np\n",
    "from sentence_transformers import SentenceTransformer"
   ]
  },
  {
   "cell_type": "code",
   "execution_count": 3,
   "id": "8ca90e44",
   "metadata": {},
   "outputs": [],
   "source": [
    "# Install BERT model by using SentenceTransformer package.\n",
    "model = SentenceTransformer('dbmdz/bert-base-turkish-128k-cased')"
   ]
  },
  {
   "cell_type": "code",
   "execution_count": 4,
   "id": "8a156cdd",
   "metadata": {},
   "outputs": [],
   "source": [
    "# Read dataset function ...\n",
    "def read_csv(filepath):\n",
    "     if os.path.splitext(filepath)[1] != '.csv':\n",
    "          return  # or whatever\n",
    "     seps = [';', '\\t']                    # ',' is default\n",
    "     encodings = [None, 'utf-8', 'ISO-8859-1', 'utf-16','ascii']  # None is default\n",
    "     for sep in seps:\n",
    "         for encoding in encodings:\n",
    "              try:\n",
    "                  return pd.read_csv(filepath, encoding=encoding, sep=sep)\n",
    "              except Exception:  # should really be more specific \n",
    "                  pass\n",
    "     raise ValueError(\"{!r} is has no encoding in {} or seperator in {}\"\n",
    "                      .format(filepath, encodings, seps))"
   ]
  },
  {
   "cell_type": "code",
   "execution_count": null,
   "id": "255323ff",
   "metadata": {},
   "outputs": [
    {
     "name": "stdout",
     "output_type": "stream",
     "text": [
      "SENTENCE\n",
      "LAW\n",
      "['SENTENCE', 'LAW']\n"
     ]
    }
   ],
   "source": [
    "# Get the dataset embeddings ...\n",
    "input_df = read_csv('../datasets/exp1_dataset.csv')\n",
    "input_df = input_df.head(4603)\n",
    "\n",
    "for col in input_df.columns: \n",
    "    print(col) \n",
    "\n",
    "print(input_df.columns.tolist())\n",
    "\n",
    "#sentences = list(input_df.groupby('SENTENCE').groups.items())\n",
    "sentences = input_df['SENTENCE'].values.tolist()\n",
    "\n",
    "sentence_embeddings = model.encode(sentences)\n",
    "\n",
    "print('Sample BERT embedding vector - length', len(sentence_embeddings[0]))\n",
    "\n",
    "print('Sample BERT embedding vector - note includes negative values', sentence_embeddings[0])"
   ]
  },
  {
   "cell_type": "code",
   "execution_count": null,
   "id": "dac68409",
   "metadata": {},
   "outputs": [],
   "source": [
    "\n",
    "queries = [query]\n",
    "query_embeddings = model.encode(queries)\n",
    "\n",
    "# Find the closest 3 sentences of the corpus for each query sentence based on cosine similarity\n",
    "number_top_matches = 10 #@param {type: \"number\"}\n",
    "\n",
    "print(\"Anlamsal arama sonuçları\")\n",
    "\n",
    "for query, query_embedding in zip(queries, query_embeddings):\n",
    "    distances = scipy.spatial.distance.cdist([query_embedding], sentence_embeddings, \"cosine\")[0]\n",
    "\n",
    "    results = zip(range(len(distances)), distances)\n",
    "    results = sorted(results, key=lambda x: x[1])\n",
    "\n",
    "    print(\"\\n\\n======================\\n\\n\")\n",
    "    print(\"ARANAN CÜMLE:\", query)\n",
    "    print(\"\\nEN YÜKSEK 10 SONUÇ GÖSTERİLİYOR :\\n\")\n",
    "\n",
    "    for idx, distance in results[0:number_top_matches]:\n",
    "        print(sentences[idx].strip(), \"(Cosine Score: %.4f)\" % (1-distance))"
   ]
  },
  {
   "cell_type": "code",
   "execution_count": null,
   "id": "f9b13c7d",
   "metadata": {},
   "outputs": [],
   "source": []
  }
 ],
 "metadata": {
  "kernelspec": {
   "display_name": "Python 3",
   "language": "python",
   "name": "python3"
  },
  "language_info": {
   "codemirror_mode": {
    "name": "ipython",
    "version": 3
   },
   "file_extension": ".py",
   "mimetype": "text/x-python",
   "name": "python",
   "nbconvert_exporter": "python",
   "pygments_lexer": "ipython3",
   "version": "3.9.2"
  }
 },
 "nbformat": 4,
 "nbformat_minor": 5
}
